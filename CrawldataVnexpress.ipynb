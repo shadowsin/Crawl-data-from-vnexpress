{
  "cells": [
    {
      "cell_type": "markdown",
      "metadata": {
        "id": "Gd6np65wKpXH"
      },
      "source": [
        "### Import module"
      ]
    },
    {
      "cell_type": "code",
      "execution_count": 1,
      "metadata": {
        "id": "35MsH40nKpXL"
      },
      "outputs": [],
      "source": [
        "import requests\n",
        "import bs4\n",
        "import re\n",
        "import os"
      ]
    },
    {
      "cell_type": "code",
      "execution_count": 2,
      "metadata": {
        "id": "xBqyM0kWKpXN"
      },
      "outputs": [],
      "source": [
        "def get_data_from_VNE_link(url, path):\n",
        "    soup = bs4.BeautifulSoup(requests.get(url).text,\"html.parser\")\n",
        "    strDate = soup.find('span', attrs={'class':'date'}).text\n",
        "    year = str(strDate).split(',')[1].split('/')[2]\n",
        "    id = url.split('-')[-1].split('.html')[0]\n",
        "    strTitle = soup.find('h1', attrs={'class':'title-detail'}).text\n",
        "    content = soup.findAll('p', attrs={'class':'Normal'})\n",
        "    content = list(content[:-1])\n",
        "    content = re.sub(\"<.*?>\", \"\\n\", str(content))\n",
        "\n",
        "    file_name = path + '/_' + year + '_' + id + '.txt'\n",
        "\n",
        "    f = open(file_name, 'w+', encoding='utf-8')\n",
        "    f.write(strTitle + '\\n')\n",
        "    f.write(content)\n",
        "    f.close()"
      ]
    },
    {
      "cell_type": "markdown",
      "metadata": {
        "id": "XbAiQEiFKpXO"
      },
      "source": [
        "### function to get data from 'vnexpress.net'"
      ]
    },
    {
      "cell_type": "code",
      "execution_count": 3,
      "metadata": {
        "id": "33hCBXbzKpXO"
      },
      "outputs": [],
      "source": [
        "def get_data_from_VNE(url, path):\n",
        "\n",
        "    soup = bs4.BeautifulSoup(requests.get(url).text,\"html.parser\")\n",
        "\n",
        "    for a in soup.findAll('h3', attrs={'class':'title-news'}):\n",
        "        urls = re.findall(r'href=[\\'\"]?([^\\'\" >]+)', str(a))\n",
        "        get_data_from_VNE_link(urls[0], output_path)\n",
        "\n",
        "    print('Finish!')"
      ]
    },
    {
      "cell_type": "markdown",
      "metadata": {
        "id": "FGmh55s9KpXO"
      },
      "source": [
        "### test function with category `Thế giới`"
      ]
    },
    {
      "cell_type": "code",
      "execution_count": 4,
      "metadata": {
        "colab": {
          "base_uri": "https://localhost:8080/"
        },
        "id": "uRqTflQ6KpXP",
        "outputId": "9f036814-e2cb-4e90-eef7-4e23b2b7d2a3"
      },
      "outputs": [
        {
          "output_type": "stream",
          "name": "stdout",
          "text": [
            "Finish!\n"
          ]
        }
      ],
      "source": [
        "url = 'https://vnexpress.net/the-gioi'\n",
        "output_path = 'data/thegioi/'\n",
        "\n",
        "if not os.path.exists(output_path):\n",
        "    os.makedirs(output_path)\n",
        "\n",
        "get_data_from_VNE(url, output_path)"
      ]
    }
  ],
  "metadata": {
    "kernelspec": {
      "display_name": "Python 3",
      "language": "python",
      "name": "python3"
    },
    "language_info": {
      "codemirror_mode": {
        "name": "ipython",
        "version": 3
      },
      "file_extension": ".py",
      "mimetype": "text/x-python",
      "name": "python",
      "nbconvert_exporter": "python",
      "pygments_lexer": "ipython3",
      "version": "3.8.5"
    },
    "colab": {
      "provenance": []
    }
  },
  "nbformat": 4,
  "nbformat_minor": 0
}